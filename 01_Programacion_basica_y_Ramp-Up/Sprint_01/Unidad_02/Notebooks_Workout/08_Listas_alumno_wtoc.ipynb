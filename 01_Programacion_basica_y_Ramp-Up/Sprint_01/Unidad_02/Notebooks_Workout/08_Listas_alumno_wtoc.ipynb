{
 "cells": [
  {
   "cell_type": "markdown",
   "metadata": {},
   "source": [
    "<img src = \"./img/TheBridge_logo_RGB_color.jpg\" width = 500>\n",
    "<img src = \"./img/python.jpg\" width = 500>"
   ]
  },
  {
   "cell_type": "markdown",
   "metadata": {},
   "source": [
    "# Python Basics I"
   ]
  },
  {
   "cell_type": "markdown",
   "metadata": {},
   "source": [
    "## Contenidos"
   ]
  },
  {
   "cell_type": "markdown",
   "metadata": {},
   "source": [
    "* [Listas](#Listas)\n",
    "\n",
    "* [Métodos en Listas](#Metodos-en-Listas)\n",
    "\n"
   ]
  },
  {
   "cell_type": "markdown",
   "metadata": {},
   "source": [
    "## Listas\n",
    "[al indice](#Contenidos)  \n",
    "\n",
    "Se trata de otro de los tipos de datos de Python más usados. Dentro de las colecciones, que veremos más adelante, la lista es la colección que normalmente se le da más uso. **Nos permiten almacenar conjuntos de variables u objetos**, y son elementos de lo más versátiles puesto que podemos almacenar objetos de distintos tipos, modificarlos, eliminarlos, meter listas dentro de listas... Sus dos caractrísticas principales son:\n",
    "* **Mutables**: una vez se ha creado la lista, se puede modificar\n",
    "* **Ordenada**: Los elementos tienen un cierto orden, lo que nos permite acceder al elemento que queramos teniendo en cuenta tal orden\n",
    "\n",
    "En cuanto a su sintaxis, cuando declaremos la lista simplemente hay que separar cada elemento con comas, y rodearlo todo con corchetes."
   ]
  },
  {
   "cell_type": "code",
   "execution_count": 1,
   "metadata": {},
   "outputs": [
    {
     "name": "stdout",
     "output_type": "stream",
     "text": [
      "[1, 3, 5, 6] <class 'list'>\n"
     ]
    }
   ],
   "source": [
    "lista_de_numeros = [1,3,5,6]\n",
    "print(lista_de_numeros, type(lista_de_numeros))"
   ]
  },
  {
   "cell_type": "code",
   "execution_count": 2,
   "metadata": {},
   "outputs": [
    {
     "name": "stdout",
     "output_type": "stream",
     "text": [
      "['Esto', 'es', 'una', 'lista', 'de', 'strings'] <class 'list'>\n"
     ]
    }
   ],
   "source": [
    "lista_de_strings = [\"Esto\", \"es\", \"una\", \"lista\", \"de\", \"strings\"]\n",
    "print(lista_de_strings, type(lista_de_strings))"
   ]
  },
  {
   "cell_type": "code",
   "execution_count": 3,
   "metadata": {},
   "outputs": [
    {
     "name": "stdout",
     "output_type": "stream",
     "text": [
      "[False, True, True, True, False, True, False] <class 'list'>\n"
     ]
    }
   ],
   "source": [
    "lista_de_booleanos = [False, True, True, True, False, True, False]\n",
    "print(lista_de_booleanos, type(lista_de_booleanos))"
   ]
  },
  {
   "cell_type": "code",
   "execution_count": null,
   "metadata": {},
   "outputs": [
    {
     "name": "stdout",
     "output_type": "stream",
     "text": [
      "['Esto', 'es', 1, 'lista', 'mezclada', True, ['Sublista']] <class 'list'>\n"
     ]
    }
   ],
   "source": [
    "lista_mezclada = [\"Esto\", \"es\", 1, \"lista\", \"mezclada\", True, [\"Sublista\"]]\n",
    "print(lista_mezclada, type(lista_mezclada))"
   ]
  },
  {
   "cell_type": "code",
   "execution_count": 7,
   "metadata": {},
   "outputs": [
    {
     "name": "stdout",
     "output_type": "stream",
     "text": [
      "4 4 3\n"
     ]
    }
   ],
   "source": [
    "lista_de_lista = [125, 435, \"Hola\", [True, False, True, [35, 36, 37]]]\n",
    "print(len(lista_de_lista), len(lista_de_lista[3]), len(lista_de_lista[3][-1]))"
   ]
  },
  {
   "cell_type": "markdown",
   "metadata": {},
   "source": [
    "#### Concatenación"
   ]
  },
  {
   "cell_type": "code",
   "execution_count": 11,
   "metadata": {},
   "outputs": [
    {
     "name": "stdout",
     "output_type": "stream",
     "text": [
      "11 4 3\n"
     ]
    }
   ],
   "source": [
    "concatenacion = lista_de_lista + lista_mezclada\n",
    "\n",
    "print(len(concatenacion), len(concatenacion[3]), len(concatenacion[3][-1]))\n"
   ]
  },
  {
   "cell_type": "markdown",
   "metadata": {},
   "source": [
    "**NOTA**: ¿Ves por qué los decimales en Python siempre van con puntos y no con comas? Con las colecciones el intérprete de Python se volvería loco.\n",
    "\n",
    "Podemos ver tambien el tipo de la lista"
   ]
  },
  {
   "cell_type": "code",
   "execution_count": 12,
   "metadata": {},
   "outputs": [
    {
     "name": "stdout",
     "output_type": "stream",
     "text": [
      "[125, 435, 'Hola', [True, False, True, [35, 36, 37]], 'Esto', 'es', 1, 'lista', 'mezclada', True, ['Sublista']] <class 'list'>\n"
     ]
    }
   ],
   "source": [
    "print(concatenacion, type(concatenacion))"
   ]
  },
  {
   "cell_type": "markdown",
   "metadata": {},
   "source": [
    "Calcular la longitud de la misma mediante el método *built-in* ya visto: `len()`"
   ]
  },
  {
   "cell_type": "markdown",
   "metadata": {},
   "source": [
    "Accedemos a los elemenos de la lista mediante corchetes `[]`\n",
    "\n",
    "**Importante**. El primer elemento es el 0"
   ]
  },
  {
   "cell_type": "code",
   "execution_count": 13,
   "metadata": {},
   "outputs": [
    {
     "name": "stdout",
     "output_type": "stream",
     "text": [
      "11 4 3\n"
     ]
    }
   ],
   "source": [
    "print(len(concatenacion), len(concatenacion[3]), len(concatenacion[3][-1]))"
   ]
  },
  {
   "cell_type": "markdown",
   "metadata": {},
   "source": [
    "### Metodos en Listas  \n",
    "[al índice](#Contenidos)  \n",
    "\n",
    "Para el tipo de objeto lista, también hay una serie de métodos catacterísticos que nos permiten operar con ellas: añadir valores, quitarlos, indexado, filtrado, etc... En [este enlace](https://www.w3schools.com/python/python_ref_list.asp) puedes encontrar todos los métodos que podrás usar con listas."
   ]
  },
  {
   "cell_type": "code",
   "execution_count": 17,
   "metadata": {},
   "outputs": [
    {
     "name": "stdout",
     "output_type": "stream",
     "text": [
      "['Matemática', 'Filosofia', 'Literatura', 'Quimica']\n"
     ]
    }
   ],
   "source": [
    "asignaturas = [\"Matemática\", \"Filosofia\", \"Literatura\"]\n",
    "\n",
    "# Añadir elementos al final de la lista\n",
    "asignaturas.append(\"Quimica\")\n",
    "\n",
    "print(asignaturas)"
   ]
  },
  {
   "cell_type": "code",
   "execution_count": 18,
   "metadata": {},
   "outputs": [
    {
     "name": "stdout",
     "output_type": "stream",
     "text": [
      "['Matemática', 'Educación Física', 'Filosofia', 'Literatura', 'Quimica']\n"
     ]
    }
   ],
   "source": [
    "# Añadir elementos en una posición específica\n",
    "asignaturas.insert(1,\"Educación Física\")\n",
    "\n",
    "print(asignaturas)"
   ]
  },
  {
   "cell_type": "code",
   "execution_count": 19,
   "metadata": {},
   "outputs": [
    {
     "name": "stdout",
     "output_type": "stream",
     "text": [
      "['Matemática', 'Educación Física', 'Literatura', 'Quimica']\n"
     ]
    }
   ],
   "source": [
    "# Quitar elementos específicos por posición\n",
    "asignaturas.pop(2)\n",
    "\n",
    "print(asignaturas)"
   ]
  },
  {
   "cell_type": "code",
   "execution_count": 20,
   "metadata": {},
   "outputs": [
    {
     "name": "stdout",
     "output_type": "stream",
     "text": [
      "['Matemática', 'Educación Física', 'Quimica']\n"
     ]
    }
   ],
   "source": [
    "# Quitar elementos específicos por \"valor\"\"\n",
    "asignaturas.remove(\"Literatura\")\n",
    "\n",
    "print(asignaturas)"
   ]
  },
  {
   "cell_type": "code",
   "execution_count": 21,
   "metadata": {},
   "outputs": [
    {
     "name": "stdout",
     "output_type": "stream",
     "text": [
      "['Educación Física', 'Matemática', 'Quimica']\n"
     ]
    }
   ],
   "source": [
    "# Ordenar por orden alfabetica o numérica\n",
    "asignaturas.sort()\n",
    "\n",
    "print(asignaturas)"
   ]
  },
  {
   "cell_type": "code",
   "execution_count": 25,
   "metadata": {},
   "outputs": [
    {
     "name": "stdout",
     "output_type": "stream",
     "text": [
      "['Quimica', 'Matemática', 'Educación Física']\n"
     ]
    }
   ],
   "source": [
    "# Al revés\n",
    "asignaturas.sort(reverse=True)\n",
    "\n",
    "print(asignaturas)"
   ]
  },
  {
   "cell_type": "code",
   "execution_count": 26,
   "metadata": {},
   "outputs": [
    {
     "name": "stdout",
     "output_type": "stream",
     "text": [
      "[]\n"
     ]
    }
   ],
   "source": [
    "# Quitar elementos\n",
    "asignaturas.clear()\n",
    "\n",
    "print(asignaturas)"
   ]
  }
 ],
 "metadata": {
  "kernelspec": {
   "display_name": "GPU-TensorFlow",
   "language": "python",
   "name": "python3"
  },
  "language_info": {
   "codemirror_mode": {
    "name": "ipython",
    "version": 3
   },
   "file_extension": ".py",
   "mimetype": "text/x-python",
   "name": "python",
   "nbconvert_exporter": "python",
   "pygments_lexer": "ipython3",
   "version": "3.9.0"
  }
 },
 "nbformat": 4,
 "nbformat_minor": 4
}
