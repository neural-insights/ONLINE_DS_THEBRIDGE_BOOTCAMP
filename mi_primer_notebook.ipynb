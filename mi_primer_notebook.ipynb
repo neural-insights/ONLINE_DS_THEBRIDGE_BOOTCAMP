{
 "cells": [
  {
   "cell_type": "code",
   "execution_count": 1,
   "id": "bbf5af8d",
   "metadata": {},
   "outputs": [
    {
     "name": "stdout",
     "output_type": "stream",
     "text": [
      "¡Hola compañeiros de The Bridge!\n"
     ]
    }
   ],
   "source": [
    "print('¡Hola compañeiros de The Bridge!')"
   ]
  },
  {
   "cell_type": "markdown",
   "id": "9bf3ce46",
   "metadata": {},
   "source": [
    "¡Hola compañeiros de The Bridge!"
   ]
  },
  {
   "cell_type": "code",
   "execution_count": null,
   "id": "f375cec2",
   "metadata": {},
   "outputs": [],
   "source": []
  }
 ],
 "metadata": {
  "kernelspec": {
   "display_name": "Python 3 (ipykernel)",
   "language": "python",
   "name": "python3"
  },
  "language_info": {
   "codemirror_mode": {
    "name": "ipython",
    "version": 3
   },
   "file_extension": ".py",
   "mimetype": "text/x-python",
   "name": "python",
   "nbconvert_exporter": "python",
   "pygments_lexer": "ipython3",
   "version": "3.11.4"
  }
 },
 "nbformat": 4,
 "nbformat_minor": 5
}
