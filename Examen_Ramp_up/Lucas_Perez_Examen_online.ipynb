{
 "cells": [
  {
   "cell_type": "markdown",
   "id": "1f1401c1-4dc9-4902-95bf-160715a42a25",
   "metadata": {},
   "source": [
    "# Prueba de Ramp-up"
   ]
  },
  {
   "cell_type": "markdown",
   "id": "1b34c670-a6dd-482d-9b04-5babee7be17a",
   "metadata": {},
   "source": [
    "Antes de comenzar, cambia el nombre del archivo notebook poniéndole delante tu nombre y primer apellido:\n",
    "\n",
    "* ``<nombre_apellido>_examen_online.ipynb``"
   ]
  },
  {
   "cell_type": "code",
   "execution_count": null,
   "id": "c8d9a657-272c-425a-9ac4-ea59f479673c",
   "metadata": {},
   "outputs": [],
   "source": [
    "# Escribe tu nombre en la variable:\n",
    "nombre_y_apellidos = \"Lucas Perez Barone\" "
   ]
  },
  {
   "cell_type": "code",
   "execution_count": 2,
   "id": "2e9f9af5-076c-44ec-9a80-95c0e99cdc58",
   "metadata": {},
   "outputs": [],
   "source": [
    "\"\"\"\n",
    "Criterios de corrección:\n",
    "\n",
    "ejecución (ausencia de errores y obtención de resultados)\n",
    "estructura del código\n",
    "uso correcto de variables\n",
    "manejo de tipo de variables\n",
    "asignaciones\n",
    "operaciones booleanas\n",
    "manejo lógico de flujos de control y bucles\n",
    "uso de colecciones\n",
    "uso de funciones\n",
    "\"\"\";\n",
    "\n",
    "# Ejemplo de como queremos ver el código para más de un intento:\n",
    "\n",
    "# intento 1\n",
    "#your code\n",
    "\n",
    "# intento 2\n",
    "#your code"
   ]
  },
  {
   "cell_type": "code",
   "execution_count": 3,
   "id": "bb16d0e3-3bb9-4f2b-944e-8fc35e628701",
   "metadata": {},
   "outputs": [],
   "source": [
    "# crea todas las celdas que necesites"
   ]
  },
  {
   "cell_type": "markdown",
   "id": "9e02b8f5-6f66-4e73-acfa-7f8c3977de2a",
   "metadata": {},
   "source": [
    "#### Notas y pruebas de apoyo para contestar las preguntas\n",
    "\n",
    "\n",
    "Cualquier código aunque no esté correcto nos dirá más de ti que no escribir nada. "
   ]
  },
  {
   "cell_type": "markdown",
   "id": "57d6b062-27f8-4377-b583-d662777b0bd7",
   "metadata": {},
   "source": [
    "__Debes subir este notebook a tu REPO PERSONAL__\n",
    "\n",
    "__Hora: hasta las 13:30 del 06/11/2024__"
   ]
  },
  {
   "cell_type": "markdown",
   "id": "062d81e8",
   "metadata": {},
   "source": [
    "#### Ejercicio 1\n",
    "\n",
    "Disponemos de una lista con información sobre varios empleados:\n",
    "\n",
    "    empleados = \n",
    "    [[12345, \"Juan Rodríguez\", 53, [\"Director financiero\"], 2],[56789, \"Laura Pérez\", 41, [\"CEO\", \"Director\", \"Gerente\"], 2],[88354, \"Pedro Álvarez\", 26, [\"Asistente\",\"Gestor comercial\"], 3]]\n",
    "\n",
    "Respecto de cada empleado, la lista contiene cinco elementos: en el primero almacenamos su tfno, en el segundo su nombre, en el tercero su edad, en el cuarto los puestos que ha desempeñado en la empresa (en forma de lista) y en el quinto su código postal.\n",
    "\n",
    "1. Siguiendo la misma estructura, incluye un nuevo empleado en la última posición de la lista empleados.\n",
    "\n",
    "2. Mostrar por pantalla, sin uso de funciones (salvo print) ni bucles: \n",
    "\n",
    "    - El nombre y la edad del tercer empleado de la lista empleados.\n",
    "    - Los puestos desempeñados por Pedro Álvarez, ordenados de atras a adelante (es decir, de Gestor comercial a Asistente)\n",
    "    - Si el nuevo empleado que has añadido tiene más o igual a 60 años, muestra por pantalla los puestos que el nuevo empleado haya desempeñado en la empresa. En caso contrario, muestra los puestos desempeñados por Laura Pérez y Juan Rodriguez."
   ]
  },
  {
   "cell_type": "code",
   "execution_count": 60,
   "id": "68bf45b1",
   "metadata": {},
   "outputs": [
    {
     "name": "stdout",
     "output_type": "stream",
     "text": [
      "[[12345, 'Juan Rodríguez', 53, ['Director financiero'], 2], [56789, 'Laura Pérez', 41, ['CEO', 'Director', 'Gerente'], 2], [88354, 'Pedro Álvarez', 26, ['Asistente', 'Gestor comercial'], 3], [25052, 'Lucas Pérez', 30, ['Científico de Datos'], 125]]\n",
      "El tercer empleado se llama Pedro Álvarez y su edad es de 26 anõs\n",
      "['Asistente', 'Gestor comercial']\n",
      "Puestos desempeñados por Laura Pérez: ['CEO', 'Director', 'Gerente'] \n",
      "Puestos desempeñados por Juan Rodriguez: ['Director financiero']\n"
     ]
    }
   ],
   "source": [
    "# intento 1\n",
    "\n",
    "empleados = [[12345, \"Juan Rodríguez\", 53, [\"Director financiero\"], 2],\n",
    "     [56789, \"Laura Pérez\", 41, [\"CEO\", \"Director\", \"Gerente\"], \n",
    "      2],[88354, \"Pedro Álvarez\", 26, [\"Asistente\",\"Gestor comercial\"], 3]]\n",
    "\n",
    "# apartado 1\n",
    "nuevo_empleado = [25052, \"Lucas Pérez\", 30, [\"Científico de Datos\"], 125]\n",
    "\n",
    "empleados.append(nuevo_empleado)\n",
    "print(empleados)\n",
    "\n",
    "# apartado 2\n",
    "print(f\"El tercer empleado se llama {empleados[2][1]} y su edad es de {empleados[2][2]} anõs\")\n",
    "\n",
    "print(empleados[2][-2])\n",
    "\n",
    "if empleados[3][2] >= 60:\n",
    "    print(empleados[3][3])\n",
    "else:\n",
    "    print(\"Puestos desempeñados por Laura Pérez:\",empleados[1][3], \n",
    "          \"\\nPuestos desempeñados por Juan Rodriguez:\", empleados[0][3])"
   ]
  },
  {
   "cell_type": "code",
   "execution_count": 59,
   "id": "d97091e6",
   "metadata": {},
   "outputs": [
    {
     "name": "stdout",
     "output_type": "stream",
     "text": [
      "['Gestor comercial', 'Asistente']\n"
     ]
    }
   ],
   "source": [
    "# intento 2 de \"Los puestos desempeñados por Pedro Álvarez, ordenados de atras a adelante \n",
    "# (es decir, de Gestor comercial a Asistente)\", pues no lo había logrado\n",
    "\n",
    "intento_2 = [empleados[2][-2][1], empleados[2][-2][0]]\n",
    "print(intento_2)"
   ]
  },
  {
   "cell_type": "code",
   "execution_count": null,
   "id": "ae316b4b",
   "metadata": {},
   "outputs": [
    {
     "name": "stdout",
     "output_type": "stream",
     "text": [
      "[[12345, 'Juan Rodríguez', 53, ['Director financiero'], 2], [56789, 'Laura Pérez', 41, ['CEO', 'Director', 'Gerente'], 2], [88354, 'Pedro Álvarez', 26, ['Asistente', 'Gestor comercial'], 3], [1234, 'Marina Gómez', 22, ['Asistente'], 1]]\n",
      "El tercer empleado se llama Pedro Álvarez y tiene 26 años\n",
      "['Gestor comercial', 'Asistente']\n",
      "Puestos desempeñados por Laura Pérez ['CEO', 'Director', 'Gerente']\n",
      "Puestos desempeñados por Juan Rodriguez ['Director financiero']\n"
     ]
    }
   ],
   "source": [
    "# celda original del examen"
   ]
  },
  {
   "cell_type": "markdown",
   "id": "4da89624-0da3-4f91-aa5c-a084c5ee1b17",
   "metadata": {},
   "source": [
    "#### Ejercicio 2. \n",
    "\n",
    "Escribe un programa que te diga si una letra es una consonante o una vocal. Crea tu propia **FUNCIÓN**\n"
   ]
  },
  {
   "cell_type": "code",
   "execution_count": 24,
   "id": "c58bf610-92de-4a5a-a00d-652279ea33dd",
   "metadata": {},
   "outputs": [],
   "source": [
    "#intento 1\n",
    "\n",
    "def es_vocal(letra):\n",
    "    if type(letra) != str:\n",
    "        raise ValueError(\"No es una letra\")\n",
    "    else:\n",
    "        if len(letra) > 1:\n",
    "            raise ValueError(\"Introduzca solo una letra\")\n",
    "        else:\n",
    "            letra.lower()\n",
    "            if letra == \"a\" or letra == \"e\" or letra == \"i\" or letra == \"o\" or letra == \"u\":\n",
    "                print(f\"La letra {letra} es una vocal\")\n",
    "            else:\n",
    "                print(f\"La letra {letra} es una consonante\")"
   ]
  },
  {
   "cell_type": "code",
   "execution_count": 25,
   "id": "98095b28",
   "metadata": {},
   "outputs": [
    {
     "name": "stdout",
     "output_type": "stream",
     "text": [
      "La letra a es una vocal\n",
      "La letra T es una consonante\n",
      "La letra J es una consonante\n",
      "La letra Z es una consonante\n",
      "La letra i es una vocal\n",
      "La letra U es una consonante\n",
      "La letra y es una consonante\n"
     ]
    }
   ],
   "source": [
    "# pruebando intento 1\n",
    "es_vocal(\"a\")\n",
    "es_vocal(\"T\")\n",
    "es_vocal(\"J\")\n",
    "es_vocal(\"Z\")\n",
    "es_vocal(\"i\")\n",
    "es_vocal(\"U\")\n",
    "es_vocal(\"y\")\n"
   ]
  },
  {
   "cell_type": "code",
   "execution_count": 26,
   "id": "55b0e822",
   "metadata": {},
   "outputs": [
    {
     "ename": "ValueError",
     "evalue": "Introduzca solo una letra",
     "output_type": "error",
     "traceback": [
      "\u001b[1;31m---------------------------------------------------------------------------\u001b[0m",
      "\u001b[1;31mValueError\u001b[0m                                Traceback (most recent call last)",
      "Cell \u001b[1;32mIn[26], line 2\u001b[0m\n\u001b[0;32m      1\u001b[0m \u001b[38;5;66;03m# pruebando errores\u001b[39;00m\n\u001b[1;32m----> 2\u001b[0m \u001b[43mes_vocal\u001b[49m\u001b[43m(\u001b[49m\u001b[38;5;124;43m\"\u001b[39;49m\u001b[38;5;124;43maa\u001b[39;49m\u001b[38;5;124;43m\"\u001b[39;49m\u001b[43m)\u001b[49m\n",
      "Cell \u001b[1;32mIn[24], line 8\u001b[0m, in \u001b[0;36mes_vocal\u001b[1;34m(letra)\u001b[0m\n\u001b[0;32m      6\u001b[0m \u001b[38;5;28;01melse\u001b[39;00m:\n\u001b[0;32m      7\u001b[0m     \u001b[38;5;28;01mif\u001b[39;00m \u001b[38;5;28mlen\u001b[39m(letra) \u001b[38;5;241m>\u001b[39m \u001b[38;5;241m1\u001b[39m:\n\u001b[1;32m----> 8\u001b[0m         \u001b[38;5;28;01mraise\u001b[39;00m \u001b[38;5;167;01mValueError\u001b[39;00m(\u001b[38;5;124m\"\u001b[39m\u001b[38;5;124mIntroduzca solo una letra\u001b[39m\u001b[38;5;124m\"\u001b[39m)\n\u001b[0;32m      9\u001b[0m     \u001b[38;5;28;01melse\u001b[39;00m:\n\u001b[0;32m     10\u001b[0m         letra\u001b[38;5;241m.\u001b[39mlower()\n",
      "\u001b[1;31mValueError\u001b[0m: Introduzca solo una letra"
     ]
    }
   ],
   "source": [
    "# pruebando errores\n",
    "es_vocal(\"aa\")"
   ]
  },
  {
   "cell_type": "code",
   "execution_count": 27,
   "id": "e9939e22",
   "metadata": {},
   "outputs": [
    {
     "ename": "ValueError",
     "evalue": "No es una letra",
     "output_type": "error",
     "traceback": [
      "\u001b[1;31m---------------------------------------------------------------------------\u001b[0m",
      "\u001b[1;31mValueError\u001b[0m                                Traceback (most recent call last)",
      "Cell \u001b[1;32mIn[27], line 1\u001b[0m\n\u001b[1;32m----> 1\u001b[0m \u001b[43mes_vocal\u001b[49m\u001b[43m(\u001b[49m\u001b[38;5;241;43m5\u001b[39;49m\u001b[43m)\u001b[49m\n",
      "Cell \u001b[1;32mIn[24], line 5\u001b[0m, in \u001b[0;36mes_vocal\u001b[1;34m(letra)\u001b[0m\n\u001b[0;32m      3\u001b[0m \u001b[38;5;28;01mdef\u001b[39;00m \u001b[38;5;21mes_vocal\u001b[39m(letra):\n\u001b[0;32m      4\u001b[0m     \u001b[38;5;28;01mif\u001b[39;00m \u001b[38;5;28mtype\u001b[39m(letra) \u001b[38;5;241m!=\u001b[39m \u001b[38;5;28mstr\u001b[39m:\n\u001b[1;32m----> 5\u001b[0m         \u001b[38;5;28;01mraise\u001b[39;00m \u001b[38;5;167;01mValueError\u001b[39;00m(\u001b[38;5;124m\"\u001b[39m\u001b[38;5;124mNo es una letra\u001b[39m\u001b[38;5;124m\"\u001b[39m)\n\u001b[0;32m      6\u001b[0m     \u001b[38;5;28;01melse\u001b[39;00m:\n\u001b[0;32m      7\u001b[0m         \u001b[38;5;28;01mif\u001b[39;00m \u001b[38;5;28mlen\u001b[39m(letra) \u001b[38;5;241m>\u001b[39m \u001b[38;5;241m1\u001b[39m:\n",
      "\u001b[1;31mValueError\u001b[0m: No es una letra"
     ]
    }
   ],
   "source": [
    "es_vocal(5)"
   ]
  },
  {
   "cell_type": "markdown",
   "id": "52065a6c-3d4c-44c0-a10b-958506c481b3",
   "metadata": {},
   "source": [
    "#### Ejercicio 3. \n",
    "\n",
    "Escribe un programa que calcule la edad humana de un perro.\n",
    "Tienes que pedirle al usuario la edad del perro en años.\n",
    "Si el usuario introduce un número negativo, imprime que la cifra facilitada no tiene sentido. Si el perro tiene un año, son 14 años humanos. Si tiene 2 años, son 22 años humanos.\n",
    "A partir de los 2 años, el cálculo es el siguiente: a la edad del perro se le restan 2 años, el resultado se multiplica por 5 y, finalmente, se le suma 22.\n",
    "Usa una función sin argumentos de entrada ni de salida (muestra toda la información con print())"
   ]
  },
  {
   "cell_type": "code",
   "execution_count": 28,
   "id": "9c59c801-1fe1-4a6d-a000-f85ca738ed00",
   "metadata": {},
   "outputs": [],
   "source": [
    "#intento 1\n",
    "\n",
    "def edad_humana():\n",
    "    edad_perro = int(input(\"Pulse la edad de tu perrito:\"))\n",
    "    if edad_perro < 0:\n",
    "        raise ValueError(\"La cifra no tiene sentido. Pulse un número positivo\")\n",
    "\n",
    "    elif edad_perro == 1:\n",
    "        edad_humana = 14\n",
    "        print(f\"La edad humana de tu perrito es de {edad_humana} años\")\n",
    "\n",
    "    elif edad_perro == 2:\n",
    "        edad_humana = 22\n",
    "        print(f\"La edad humana de tu perrito es de {edad_humana} años\")\n",
    "\n",
    "    else:\n",
    "        edad_humana = (edad_perro - 2)*5 + 22\n",
    "        print(f\"La edad humana de tu perrito es de {edad_humana} años\")\n"
   ]
  },
  {
   "cell_type": "code",
   "execution_count": 33,
   "id": "399a39ad",
   "metadata": {},
   "outputs": [
    {
     "ename": "ValueError",
     "evalue": "La cifra no tiene sentido. Pulse un número positivo",
     "output_type": "error",
     "traceback": [
      "\u001b[1;31m---------------------------------------------------------------------------\u001b[0m",
      "\u001b[1;31mValueError\u001b[0m                                Traceback (most recent call last)",
      "Cell \u001b[1;32mIn[33], line 3\u001b[0m\n\u001b[0;32m      1\u001b[0m \u001b[38;5;66;03m# pruebando todas las condiciones\u001b[39;00m\n\u001b[1;32m----> 3\u001b[0m \u001b[43medad_humana\u001b[49m\u001b[43m(\u001b[49m\u001b[43m)\u001b[49m\n",
      "Cell \u001b[1;32mIn[28], line 6\u001b[0m, in \u001b[0;36medad_humana\u001b[1;34m()\u001b[0m\n\u001b[0;32m      4\u001b[0m edad_perro \u001b[38;5;241m=\u001b[39m \u001b[38;5;28mint\u001b[39m(\u001b[38;5;28minput\u001b[39m(\u001b[38;5;124m\"\u001b[39m\u001b[38;5;124mPulse la edad de tu perrito:\u001b[39m\u001b[38;5;124m\"\u001b[39m))\n\u001b[0;32m      5\u001b[0m \u001b[38;5;28;01mif\u001b[39;00m edad_perro \u001b[38;5;241m<\u001b[39m \u001b[38;5;241m0\u001b[39m:\n\u001b[1;32m----> 6\u001b[0m     \u001b[38;5;28;01mraise\u001b[39;00m \u001b[38;5;167;01mValueError\u001b[39;00m(\u001b[38;5;124m\"\u001b[39m\u001b[38;5;124mLa cifra no tiene sentido. Pulse un número positivo\u001b[39m\u001b[38;5;124m\"\u001b[39m)\n\u001b[0;32m      8\u001b[0m \u001b[38;5;28;01melif\u001b[39;00m edad_perro \u001b[38;5;241m==\u001b[39m \u001b[38;5;241m1\u001b[39m:\n\u001b[0;32m      9\u001b[0m     edad_humana \u001b[38;5;241m=\u001b[39m \u001b[38;5;241m14\u001b[39m\n",
      "\u001b[1;31mValueError\u001b[0m: La cifra no tiene sentido. Pulse un número positivo"
     ]
    }
   ],
   "source": [
    "# pruebando todas las condiciones\n",
    "\n",
    "edad_humana()          # introducindo valor -5\n"
   ]
  },
  {
   "cell_type": "code",
   "execution_count": null,
   "id": "68157154",
   "metadata": {},
   "outputs": [
    {
     "name": "stdout",
     "output_type": "stream",
     "text": [
      "La edad humana de tu perrito es de 14 años\n"
     ]
    }
   ],
   "source": [
    "edad_humana()          # introducindo valor 1"
   ]
  },
  {
   "cell_type": "code",
   "execution_count": null,
   "id": "54e16962",
   "metadata": {},
   "outputs": [
    {
     "name": "stdout",
     "output_type": "stream",
     "text": [
      "La edad humana de tu perrito es de 22 años\n"
     ]
    }
   ],
   "source": [
    "edad_humana()          # introducindo valor 2"
   ]
  },
  {
   "cell_type": "code",
   "execution_count": 34,
   "id": "e4540b6d",
   "metadata": {},
   "outputs": [
    {
     "name": "stdout",
     "output_type": "stream",
     "text": [
      "La edad humana de tu perrito es de 87 años\n"
     ]
    }
   ],
   "source": [
    "edad_humana()          # introducindo valor 15"
   ]
  },
  {
   "cell_type": "markdown",
   "id": "2991309f-4208-431a-900c-d9bc734bb936",
   "metadata": {},
   "source": [
    "#### Ejercicio 4. \n",
    "\n",
    "Escribe un programa que te diga si una frase es un pangrama. Un pangrama es una frase que contiene todas las letras del alfabeto.\n",
    "Puedes tener espacios en blanco, pero NO  tendrás signos de puntuación, a excepción de las tildes.\n",
    "\n",
    "Ejemplo de pangrama:\n",
    "\n",
    "Extraño pan de col y kiwi se quemó bajo fugaz vaho "
   ]
  },
  {
   "cell_type": "code",
   "execution_count": 81,
   "id": "9a349c1e-15ab-4253-97f8-2a07a263791d",
   "metadata": {},
   "outputs": [
    {
     "name": "stdout",
     "output_type": "stream",
     "text": [
      "No sé cómo seguir con este ejercicio.\n"
     ]
    }
   ],
   "source": [
    "#intento 1\n",
    "\n",
    "frase = input(\"Escriba una frase:\")\n",
    "\n",
    "frase.lower()\n",
    "\n",
    "print(frase)"
   ]
  },
  {
   "cell_type": "markdown",
   "id": "3dbb76e0-79b2-45e8-9034-58ee9cbd82bb",
   "metadata": {},
   "source": [
    "#### Ejercicio 5. \n",
    "\n",
    "Escribe un programa que use diccionarios para traducir palabras entre varios idiomas.\n",
    "Deberás pedirle al usuario una palabra por teclado, ver si está en tu diccionario. En caso de que esté, deberás mostrar la traducción de esa palabra.\n",
    "\n",
    "Ejemplo de diccionario:\n",
    "\n",
    "```python\n",
    "{\"file\": \"Fichier\", \"new\": \"Nouveau\", \"open\": \"Ouvrir\", \"save\": \"Enregistrer\", \"save as\": \"Enregistrer sous\", \"print preview\": \"Apercu avant impressioner\", \"print\": \"Imprimer\", \"close\": \"Fermer\", \"exit\": \"Quitter\"}\n"
   ]
  },
  {
   "cell_type": "code",
   "execution_count": null,
   "id": "4df138ad",
   "metadata": {},
   "outputs": [
    {
     "data": {
      "text/plain": [
       "dict_items([('archivo', 'file'), ('nuevo', 'new'), ('abierto', 'opened'), ('cerrado', 'closed'), ('longitud', 'length'), ('targeta', 'card')])"
      ]
     },
     "execution_count": 36,
     "metadata": {},
     "output_type": "execute_result"
    }
   ],
   "source": [
    "# declarando un diccionário\n",
    "\n",
    "diccionario = {\"archivo\": \"file\", \"nuevo\": \"new\", \"abierto\": \"opened\", \n",
    "               \"cerrado\": \"closed\", \"longitud\": \"length\", \"targeta\": \"card\"}\n",
    "\n",
    "diccionario.items()"
   ]
  },
  {
   "cell_type": "code",
   "execution_count": 54,
   "id": "88236123-e8ac-45da-87d0-134a88a690c1",
   "metadata": {},
   "outputs": [
    {
     "name": "stdout",
     "output_type": "stream",
     "text": [
      "La palabra archivo no está en el diccionário =( Lo siento)\n",
      "La traducción de la palabra 'nuevo' es 'new'\n",
      "La palabra abierto no está en el diccionário =( Lo siento)\n",
      "La palabra cerrado no está en el diccionário =( Lo siento)\n",
      "La palabra longitud no está en el diccionário =( Lo siento)\n",
      "La palabra targeta no está en el diccionário =( Lo siento)\n"
     ]
    }
   ],
   "source": [
    "#intento 1\n",
    "palabra_a_traducir = input(\"Introduzca una palabra:\")\n",
    "\n",
    "if type(palabra_a_traducir) != str:\n",
    "    raise ValueError(\"No es una palabra, intente nuevamente.\")\n",
    "\n",
    "palabra_a_traducir.lower()\n",
    "for palabra, traduccion in diccionario.items():\n",
    "    if palabra_a_traducir in palabra:\n",
    "        print(f\"La traducción de la palabra '{palabra}' es '{traduccion}'\")\n",
    "    else:\n",
    "        print(f\"La palabra {palabra} no está en el diccionário =( Lo siento)\")\n"
   ]
  },
  {
   "cell_type": "code",
   "execution_count": 56,
   "id": "2d6fde3c",
   "metadata": {},
   "outputs": [
    {
     "name": "stdout",
     "output_type": "stream",
     "text": [
      "La palabra no está en el diccionario =( Lo siento)\n",
      "La traducción de la palabra 'nuevo' es 'new'\n"
     ]
    }
   ],
   "source": [
    "# intento 2\n",
    "palabra_a_traducir = input(\"Introduzca una palabra:\")\n",
    "\n",
    "if type(palabra_a_traducir) != str:\n",
    "    raise ValueError(\"No es una palabra, intente nuevamente.\")\n",
    "\n",
    "palabra_a_traducir.lower()\n",
    "for palabra, traduccion in diccionario.items():\n",
    "    if palabra_a_traducir == palabra:\n",
    "        print(f\"La traducción de la palabra '{palabra}' es '{traduccion}'\")\n",
    "        break\n",
    "\n",
    "    else:\n",
    "        print(\"La palabra no está en el diccionario =( Lo siento)\")\n",
    "    \n",
    "    "
   ]
  },
  {
   "cell_type": "code",
   "execution_count": 55,
   "id": "a01ac4ca",
   "metadata": {},
   "outputs": [
    {
     "name": "stdout",
     "output_type": "stream",
     "text": [
      "La traducción de la palabra 'cerrado' es 'closed'\n"
     ]
    }
   ],
   "source": [
    "# intento 3\n",
    "palabra_a_traducir = input(\"Introduzca una palabra:\")\n",
    "\n",
    "if type(palabra_a_traducir) != str:\n",
    "    raise ValueError(\"No es una palabra, intente nuevamente.\")\n",
    "\n",
    "palabra_a_traducir.lower()\n",
    "palabra_encontrada = False\n",
    "\n",
    "for palabra, traduccion in diccionario.items():\n",
    "    if palabra_a_traducir == palabra:\n",
    "        print(f\"La traducción de la palabra '{palabra}' es '{traduccion}'\")\n",
    "        palabra_encontrada = True\n",
    "        break\n",
    "\n",
    "if not palabra_encontrada:\n",
    "    print(f\"La palabra {palabra_a_traducir} no está en el diccionario =( Lo siento)\")\n"
   ]
  },
  {
   "cell_type": "markdown",
   "id": "61967ca4-7e06-44b3-ad7b-adbc0e71671a",
   "metadata": {},
   "source": [
    "#### Ejercicio 6. (Bonus).\n",
    "\n",
    "Usando `OOP` modela un theremin (es un instrumento musical que se toca modificando el campo electromagnético, por si tenías curiosidad).\n",
    "Tendrá de atributos la marca, el modelo, el peso, la potencia y la batería.\n",
    "\n",
    "Todos los instrumentos se crean con un peso predeterminado de 500, una potencia de 50 y una batería de 200.\n",
    "\n",
    "Cuando se recarga la batería vale 200.\n",
    "\n",
    "Cuando se toca, se muestra por pantalla que está sonando y la batería disminuye 10 (no siendo nunca negativo).\n",
    "Si no hay batería, no puede sonar. Crea un instrumento, tócalo mientras quede batería, cárgalo y no lo vuelvas a tocar.\n"
   ]
  },
  {
   "cell_type": "code",
   "execution_count": 70,
   "id": "8082c8cd-03a9-478e-aa72-4ec1306e1bb2",
   "metadata": {},
   "outputs": [],
   "source": [
    "#intento 1\n",
    "\n",
    "class theremin:\n",
    "    peso = 500\n",
    "    potencia = 50\n",
    "    bateria = 200\n",
    "    \n"
   ]
  },
  {
   "cell_type": "code",
   "execution_count": 72,
   "id": "e1a59251",
   "metadata": {},
   "outputs": [
    {
     "name": "stdout",
     "output_type": "stream",
     "text": [
      "Peso: 500 \n",
      "Potencia: 50 \n",
      "Batería 200\n"
     ]
    }
   ],
   "source": [
    "instrumento = theremin()\n",
    "print(\"Peso:\",instrumento.peso,'\\nPotencia:',instrumento.potencia,'\\nBatería',instrumento.bateria)"
   ]
  },
  {
   "cell_type": "code",
   "execution_count": 75,
   "id": "58cd50f3",
   "metadata": {},
   "outputs": [
    {
     "name": "stdout",
     "output_type": "stream",
     "text": [
      "El theremin está tocando y su batería actual es de: 190\n",
      "El theremin está tocando y su batería actual es de: 180\n",
      "El theremin está tocando y su batería actual es de: 170\n",
      "El theremin está tocando y su batería actual es de: 160\n",
      "El theremin está tocando y su batería actual es de: 150\n",
      "El theremin está tocando y su batería actual es de: 140\n",
      "El theremin está tocando y su batería actual es de: 130\n",
      "El theremin está tocando y su batería actual es de: 120\n",
      "El theremin está tocando y su batería actual es de: 110\n",
      "El theremin está tocando y su batería actual es de: 100\n",
      "El theremin está tocando y su batería actual es de: 90\n",
      "El theremin está tocando y su batería actual es de: 80\n",
      "El theremin está tocando y su batería actual es de: 70\n",
      "El theremin está tocando y su batería actual es de: 60\n",
      "El theremin está tocando y su batería actual es de: 50\n",
      "El theremin está tocando y su batería actual es de: 40\n",
      "El theremin está tocando y su batería actual es de: 30\n",
      "El theremin está tocando y su batería actual es de: 20\n",
      "El theremin está tocando y su batería actual es de: 10\n",
      "El theremin está tocando y su batería actual es de: 0\n",
      "El theremin está sin batería. Necesitas cargar\n"
     ]
    }
   ],
   "source": [
    "bateria_restante =  instrumento.bateria\n",
    "\n",
    "while bateria_restante > 0:\n",
    "    bateria_restante = bateria_restante - 10\n",
    "    print(\"El theremin está tocando y su batería actual es de:\", bateria_restante)\n",
    "\n",
    "print(\"El theremin está sin batería. Necesitas cargar\")\n"
   ]
  },
  {
   "cell_type": "code",
   "execution_count": 76,
   "id": "039fcc05",
   "metadata": {},
   "outputs": [
    {
     "name": "stdout",
     "output_type": "stream",
     "text": [
      "El theremin está cargado nuevamente con batería = 200\n"
     ]
    }
   ],
   "source": [
    "instrumento.bateria = 200\n",
    "print(\"El theremin está cargado nuevamente con batería =\", instrumento.bateria)"
   ]
  },
  {
   "cell_type": "markdown",
   "id": "30f773b5-a6da-4446-b36b-722b2ee57730",
   "metadata": {},
   "source": [
    "#### Ejercicio 7. Extra (NO PUNTÚA).\n",
    "Una empresa usa dos listas  para guardar la información de sus empleados. Una lista guarda el nombre del empleado y la otra guarda su salario. Escribe un programa que cree esas dos listas originalmente vacías y que a través de un menú pueda hacer lo siguiente:\n",
    "    \n",
    "Inserta 1 para añadir un nuevo empleado y su salario\n",
    "\n",
    "Inserta 2 para imprimir los nombres y salarios de todos los empleados\n",
    "\n",
    "Inserta 3 para mostrar el número de empleados\n",
    "\n",
    "Inserta 4 para imprimir los nombres de los empleados con sueldos superiores a 400000\n",
    "\n",
    "Inserta 5 para subir un 5% los sueldos por debajo de 10000\n",
    "\n",
    "Inserta 6 para mostrar el total de todos los salarios\n",
    "\n",
    "Inserta 7 para salir del programa"
   ]
  },
  {
   "cell_type": "code",
   "execution_count": null,
   "id": "67858e27-b7f5-4e05-bc50-3fca698ad22a",
   "metadata": {},
   "outputs": [
    {
     "name": "stdout",
     "output_type": "stream",
     "text": [
      "\n",
      "\n",
      "¡Bienvenido!\n",
      "\n",
      "Inserta 1 para añadir un nuevo empleado y su salario\n",
      "Inserta 2 para imprimir los nombres y salarios de todos los empleados\n",
      "Inserta 3 para mostrar el número de empleados\n",
      "Inserta 4 para imprimir los nombres de los empleados con sueldos superiores a 400000\n",
      "Inserta 5 para subir un 5% los sueldos por debajo de 10000\n",
      "Inserta 6 para mostrar el total de todos los salarios\n",
      "Inserta 7 para salir del programa\n",
      "\n",
      "    \n",
      "\n",
      "Suma de todos los sueldos:  10000\n",
      "\n",
      "Cantidad de empleados:  1\n",
      "\n",
      "¡Gracias por usar el programa!\n"
     ]
    }
   ],
   "source": [
    "salario = []\n",
    "nombres = []\n",
    "\n",
    "menu = input(\"Inserta 1 para añadir un nuevo empleado y su salario\\n\\nInserta 2 para imprimir los nombres y salarios de todos los empleados\\n\\nInserta 3 para mostrar el número de empleados\\n\\nInserta 4 para imprimir los nombres de los empleados con sueldos superiores a 400000\\n\\nInserta 5 para subir un 5% los sueldos por debajo de 10000\\n\\nInserta 6 para mostrar el total de todos los salarios\\n\\nInserta 7 para salir del programa\")\n",
    "\n",
    "if menu == '1':\n",
    "    nombre_empleado = input(\"Pulse el nombre del empleado\")\n",
    "    salario_empleado = input(\"Ahora pulse el salario de ese empleado\")\n",
    "    nombres.append(nombre_empleado)\n",
    "    salario.append(nombre_empleado)\n",
    "\n",
    "elif menu == '2':\n",
    "    diccionario = dict(nombres: salario)\n",
    "    print(diccionario)\n",
    "elif menu == '3':\n",
    "\n",
    "\n",
    "elif menu == '4':\n",
    "\n",
    "elif menu == '5':\n",
    "\n",
    "elif menu == '6':\n",
    "\n",
    "elif menu == '7':"
   ]
  },
  {
   "cell_type": "markdown",
   "id": "e33a0e21-476e-4103-b889-a6b3e76b99f3",
   "metadata": {},
   "source": [
    "\n",
    "####  Ejercicio 8. EXTRA (NO PUNTÚA).\n",
    "\n",
    "Escribe un programa que __USE RECURSIVIDAD__ para decidir cuál es la película de Pixar favorita de un usuario.\n",
    "El programa preguntará al usuario cuál de 2 películas es su favorita, y con esa favorita se le volverá a preguntar entre esa y otra película cuál es su favorita...y así hasta que el usuario haya decidido de entre todas cuál es su favorita.\n",
    "\n",
    "Pista: si no quieres cambiar una lista, usa copy() y tendrás una copia que es otro objeto\n",
    "\n"
   ]
  },
  {
   "cell_type": "code",
   "execution_count": null,
   "id": "c9936fd4-6d29-4535-9f34-a6f289d18d8b",
   "metadata": {},
   "outputs": [
    {
     "name": "stdout",
     "output_type": "stream",
     "text": [
      "Si prefieres Toy Story marca 1, si prefieres Soul marca 2: 1\n",
      "Prefieres Toy Story\n",
      "Si prefieres Toy Story marca 1, si prefieres Up marca 2: 2\n",
      "Prefieres Up\n",
      "Si prefieres Up marca 1, si prefieres Coco marca 2: 2\n",
      "Prefieres Coco\n",
      "Si prefieres Coco marca 1, si prefieres Luca marca 2: 1\n",
      "Prefieres Coco\n",
      "Si prefieres Coco marca 1, si prefieres Monsters marca 2: 2\n",
      "Prefieres Monsters\n",
      "Si prefieres Monsters marca 1, si prefieres Inside Out marca 2: 1\n",
      "Prefieres Monsters\n",
      "Si prefieres Monsters marca 1, si prefieres WallE marca 2: 2\n",
      "Prefieres WallE\n",
      "Si prefieres WallE marca 1, si prefieres Buscando a Nemo marca 2: 2\n",
      "Prefieres Buscando a Nemo\n",
      "Si prefieres Buscando a Nemo marca 1, si prefieres Los increíbles marca 2: 1\n",
      "Prefieres Buscando a Nemo\n",
      "\n",
      "Prefieres finalmente Buscando a Nemo\n"
     ]
    }
   ],
   "source": []
  },
  {
   "cell_type": "code",
   "execution_count": 1,
   "id": "10a7b881",
   "metadata": {},
   "outputs": [],
   "source": [
    "# FIN DEL EXAMEN"
   ]
  }
 ],
 "metadata": {
  "kernelspec": {
   "display_name": "GPU-TensorFlow",
   "language": "python",
   "name": "python3"
  },
  "language_info": {
   "codemirror_mode": {
    "name": "ipython",
    "version": 3
   },
   "file_extension": ".py",
   "mimetype": "text/x-python",
   "name": "python",
   "nbconvert_exporter": "python",
   "pygments_lexer": "ipython3",
   "version": "3.9.0"
  }
 },
 "nbformat": 4,
 "nbformat_minor": 5
}
